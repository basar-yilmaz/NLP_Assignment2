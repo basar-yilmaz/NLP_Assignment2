{
 "cells": [
  {
   "cell_type": "code",
   "id": "initial_id",
   "metadata": {
    "collapsed": true,
    "ExecuteTime": {
     "end_time": "2024-12-21T19:09:38.377331Z",
     "start_time": "2024-12-21T19:09:36.067053Z"
    }
   },
   "source": [
    "    import pandas as pd\n",
    "    import matplotlib.pyplot as plt\n",
    "    import os"
   ],
   "outputs": [],
   "execution_count": 1
  },
  {
   "metadata": {
    "ExecuteTime": {
     "end_time": "2024-12-21T19:12:22.229045Z",
     "start_time": "2024-12-21T19:12:21.570161Z"
    }
   },
   "cell_type": "code",
   "source": [
    "# Load the data\n",
    "# Read data from *.tsv file in the /orientation directory\n",
    "# The *.tsv files includes 6 columns: \"id\", \"speaker\", \"sex\", \"text\", \"text_en\", \"label\"\n",
    "# The \"label\" column is the target variable\n",
    "\n",
    "data = pd.read_csv('train/orientation/orientation-at-train.tsv', sep='\\t')"
   ],
   "id": "e8d3e4b973b9807e",
   "outputs": [],
   "execution_count": 9
  },
  {
   "metadata": {
    "ExecuteTime": {
     "end_time": "2024-12-21T19:12:24.718164Z",
     "start_time": "2024-12-21T19:12:24.705809Z"
    }
   },
   "cell_type": "code",
   "source": "data.head()",
   "id": "3fd70c44b79bb73e",
   "outputs": [
    {
     "data": {
      "text/plain": [
       "        id                           speaker sex  \\\n",
       "0  at00000  e1b7e1ca73306cd46456f47a49217674   M   \n",
       "1  at00001  a0e009a76087c85dab31ab2f4575cbed   M   \n",
       "2  at00002  c5b34f33170a3e9ed1e47561128aaea8   M   \n",
       "3  at00003  17af36ebfb1c5a2c0ebacf8a36e39371   M   \n",
       "4  at00004  bb823f32cafcfdcd105f94ce99de3da2   M   \n",
       "\n",
       "                                                text  \\\n",
       "0  Herr Präsident! Hohes Haus! \"Wenn eine Idee mi...   \n",
       "1  Sehr geehrter Herr Präsident! Hohes Haus! Ich ...   \n",
       "2  Herr Präsident! Meine Damen und Herren! Ich be...   \n",
       "3  Hohes Haus! Herr Abgeordneter Haigermoser hat ...   \n",
       "4  Herr Präsident! Herr Bundeskanzler! Frau Bunde...   \n",
       "\n",
       "                                             text_en  label  \n",
       "0  Mr President. High house! \"If an idea coincide...      0  \n",
       "1  Mr President. High house! I am very glad that ...      1  \n",
       "2  Mr President. Ladies and gentlemen! I am corre...      1  \n",
       "3  High house! Mr Haigermoser has said here that ...      1  \n",
       "4  Mr President. Federal Chancellor! Mrs. Federal...      1  "
      ],
      "text/html": [
       "<div>\n",
       "<style scoped>\n",
       "    .dataframe tbody tr th:only-of-type {\n",
       "        vertical-align: middle;\n",
       "    }\n",
       "\n",
       "    .dataframe tbody tr th {\n",
       "        vertical-align: top;\n",
       "    }\n",
       "\n",
       "    .dataframe thead th {\n",
       "        text-align: right;\n",
       "    }\n",
       "</style>\n",
       "<table border=\"1\" class=\"dataframe\">\n",
       "  <thead>\n",
       "    <tr style=\"text-align: right;\">\n",
       "      <th></th>\n",
       "      <th>id</th>\n",
       "      <th>speaker</th>\n",
       "      <th>sex</th>\n",
       "      <th>text</th>\n",
       "      <th>text_en</th>\n",
       "      <th>label</th>\n",
       "    </tr>\n",
       "  </thead>\n",
       "  <tbody>\n",
       "    <tr>\n",
       "      <th>0</th>\n",
       "      <td>at00000</td>\n",
       "      <td>e1b7e1ca73306cd46456f47a49217674</td>\n",
       "      <td>M</td>\n",
       "      <td>Herr Präsident! Hohes Haus! \"Wenn eine Idee mi...</td>\n",
       "      <td>Mr President. High house! \"If an idea coincide...</td>\n",
       "      <td>0</td>\n",
       "    </tr>\n",
       "    <tr>\n",
       "      <th>1</th>\n",
       "      <td>at00001</td>\n",
       "      <td>a0e009a76087c85dab31ab2f4575cbed</td>\n",
       "      <td>M</td>\n",
       "      <td>Sehr geehrter Herr Präsident! Hohes Haus! Ich ...</td>\n",
       "      <td>Mr President. High house! I am very glad that ...</td>\n",
       "      <td>1</td>\n",
       "    </tr>\n",
       "    <tr>\n",
       "      <th>2</th>\n",
       "      <td>at00002</td>\n",
       "      <td>c5b34f33170a3e9ed1e47561128aaea8</td>\n",
       "      <td>M</td>\n",
       "      <td>Herr Präsident! Meine Damen und Herren! Ich be...</td>\n",
       "      <td>Mr President. Ladies and gentlemen! I am corre...</td>\n",
       "      <td>1</td>\n",
       "    </tr>\n",
       "    <tr>\n",
       "      <th>3</th>\n",
       "      <td>at00003</td>\n",
       "      <td>17af36ebfb1c5a2c0ebacf8a36e39371</td>\n",
       "      <td>M</td>\n",
       "      <td>Hohes Haus! Herr Abgeordneter Haigermoser hat ...</td>\n",
       "      <td>High house! Mr Haigermoser has said here that ...</td>\n",
       "      <td>1</td>\n",
       "    </tr>\n",
       "    <tr>\n",
       "      <th>4</th>\n",
       "      <td>at00004</td>\n",
       "      <td>bb823f32cafcfdcd105f94ce99de3da2</td>\n",
       "      <td>M</td>\n",
       "      <td>Herr Präsident! Herr Bundeskanzler! Frau Bunde...</td>\n",
       "      <td>Mr President. Federal Chancellor! Mrs. Federal...</td>\n",
       "      <td>1</td>\n",
       "    </tr>\n",
       "  </tbody>\n",
       "</table>\n",
       "</div>"
      ]
     },
     "execution_count": 10,
     "metadata": {},
     "output_type": "execute_result"
    }
   ],
   "execution_count": 10
  },
  {
   "metadata": {},
   "cell_type": "code",
   "outputs": [],
   "execution_count": null,
   "source": "",
   "id": "fff11020a3102153"
  }
 ],
 "metadata": {
  "kernelspec": {
   "display_name": "Python 3",
   "language": "python",
   "name": "python3"
  },
  "language_info": {
   "codemirror_mode": {
    "name": "ipython",
    "version": 2
   },
   "file_extension": ".py",
   "mimetype": "text/x-python",
   "name": "python",
   "nbconvert_exporter": "python",
   "pygments_lexer": "ipython2",
   "version": "2.7.6"
  }
 },
 "nbformat": 4,
 "nbformat_minor": 5
}
